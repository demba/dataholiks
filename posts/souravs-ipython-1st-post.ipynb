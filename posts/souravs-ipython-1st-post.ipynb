{
 "cells": [
  {
   "cell_type": "markdown",
   "metadata": {},
   "source": [
    "# S. Dey's 1st ipython notebook\n",
    "\n",
    "Bag-o-dicks"
   ]
  },
  {
   "cell_type": "code",
   "execution_count": 9,
   "metadata": {
    "collapsed": false
   },
   "outputs": [],
   "source": [
    "%matplotlib inline\n",
    "import numpy as np\n",
    "import matplotlib.pyplot as plt"
   ]
  },
  {
   "cell_type": "code",
   "execution_count": 13,
   "metadata": {
    "collapsed": false
   },
   "outputs": [
    {
     "data": {
      "image/png": "[encoded data removed]",
      "text/plain": [
       "<matplotlib.figure.Figure at 0x7ff7c4760990>"
      ]
     },
     "metadata": {},
     "output_type": "display_data"
    }
   ],
   "source": [
    "x = np.linspace(0,4,100)\n",
    "plt.plot(x,np.sin(x));"
   ]
  },
  {
   "cell_type": "code",
   "execution_count": 8,
   "metadata": {
    "collapsed": false,
    "scrolled": true
   },
   "outputs": [
    {
     "data": {
      "text/plain": [
       "array([ 0.        ,  0.04040404,  0.08080808,  0.12121212,  0.16161616,\n",
       "        0.2020202 ,  0.24242424,  0.28282828,  0.32323232,  0.36363636,\n",
       "        0.4040404 ,  0.44444444,  0.48484848,  0.52525253,  0.56565657,\n",
       "        0.60606061,  0.64646465,  0.68686869,  0.72727273,  0.76767677,\n",
       "        0.80808081,  0.84848485,  0.88888889,  0.92929293,  0.96969697,\n",
       "        1.01010101,  1.05050505,  1.09090909,  1.13131313,  1.17171717,\n",
       "        1.21212121,  1.25252525,  1.29292929,  1.33333333,  1.37373737,\n",
       "        1.41414141,  1.45454545,  1.49494949,  1.53535354,  1.57575758,\n",
       "        1.61616162,  1.65656566,  1.6969697 ,  1.73737374,  1.77777778,\n",
       "        1.81818182,  1.85858586,  1.8989899 ,  1.93939394,  1.97979798,\n",
       "        2.02020202,  2.06060606,  2.1010101 ,  2.14141414,  2.18181818,\n",
       "        2.22222222,  2.26262626,  2.3030303 ,  2.34343434,  2.38383838,\n",
       "        2.42424242,  2.46464646,  2.50505051,  2.54545455,  2.58585859,\n",
       "        2.62626263,  2.66666667,  2.70707071,  2.74747475,  2.78787879,\n",
       "        2.82828283,  2.86868687,  2.90909091,  2.94949495,  2.98989899,\n",
       "        3.03030303,  3.07070707,  3.11111111,  3.15151515,  3.19191919,\n",
       "        3.23232323,  3.27272727,  3.31313131,  3.35353535,  3.39393939,\n",
       "        3.43434343,  3.47474747,  3.51515152,  3.55555556,  3.5959596 ,\n",
       "        3.63636364,  3.67676768,  3.71717172,  3.75757576,  3.7979798 ,\n",
       "        3.83838384,  3.87878788,  3.91919192,  3.95959596,  4.        ])"
      ]
     },
     "execution_count": 8,
     "metadata": {},
     "output_type": "execute_result"
    }
   ],
   "source": [
    "x"
   ]
  }
 ],
 "metadata": {
  "kernelspec": {
   "display_name": "Python 2",
   "language": "python",
   "name": "python2"
  },
  "language_info": {
   "codemirror_mode": {
    "name": "ipython",
    "version": 2
   },
   "file_extension": ".py",
   "mimetype": "text/x-python",
   "name": "python",
   "nbconvert_exporter": "python",
   "pygments_lexer": "ipython2",
   "version": "2.7.9"
  }
 },
 "nbformat": 4,
 "nbformat_minor": 0
}
